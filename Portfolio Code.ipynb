{
 "cells": [
  {
   "cell_type": "markdown",
   "id": "53c4d4e1",
   "metadata": {},
   "source": [
    "## Elijah Bjork Python Demonstration\n",
    "\n",
    "Using the website Kaggle, I found a dataset containing the salaries, job_title, and location of positions in cyber security accross the world. I am interested in pursuing a career in cyber security. Below, I have written code to answer questions I have about the infosec industry."
   ]
  },
  {
   "cell_type": "code",
   "execution_count": 3,
   "id": "52f3325c",
   "metadata": {},
   "outputs": [],
   "source": [
    "import pandas as pd\n",
    "filepath = './salaries_cyber.csv' #if you saved the file in a different directory, please replace the path with the path to the file location\n",
    "df = pd.read_csv(filepath)"
   ]
  },
  {
   "cell_type": "code",
   "execution_count": 5,
   "id": "e8df7f3f",
   "metadata": {},
   "outputs": [],
   "source": [
    "#About data\n",
    "df.info()"
   ]
  },
  {
   "cell_type": "markdown",
   "id": "08408431",
   "metadata": {},
   "source": [
    "### BQ1: What are the top and bottom 10 salaries and job position paid in US dollars?\n",
    "\n",
    "I am, of course, primarily interested in salary. This section gives me a general idea of what salaries are like."
   ]
  },
  {
   "cell_type": "code",
   "execution_count": 62,
   "id": "aaf8a483",
   "metadata": {
    "scrolled": true
   },
   "outputs": [],
   "source": [
    "bq1_df = df[df['employee_residence'] == 'US']\n",
    "\n",
    "bq1_df = bq1_df[['salary', 'job_title', 'experience_level']]\n",
    "\n",
    "print(bq1_df.nlargest(10, \"salary\"))\n",
    "print(bq1_df.nsmallest(10, \"salary\"))"
   ]
  },
  {
   "cell_type": "markdown",
   "id": "13b203a7",
   "metadata": {},
   "source": [
    "### BQ2: What is the median Salary for an entry level professional in the US?\n",
    "\n",
    "Within the next five years, I hope to start an job in infosec. This will be an entry level position. I want to know what I can expect as a salary for these initial jobs."
   ]
  },
  {
   "cell_type": "code",
   "execution_count": 68,
   "id": "e46085d1",
   "metadata": {
    "scrolled": false
   },
   "outputs": [],
   "source": [
    "bq2_df = df[df['experience_level'] == 'EN']\n",
    "\n",
    "print(bq2_df[['salary']].median())"
   ]
  },
  {
   "cell_type": "markdown",
   "id": "ee71a89a",
   "metadata": {},
   "source": [
    "### BQ3: What are the job titles available?\n",
    "\n",
    "In the long run, I want to be in cyber forensics or in incident response. It is good for me to be aware of all the positions available, especially those performing the roles I want."
   ]
  },
  {
   "cell_type": "code",
   "execution_count": 57,
   "id": "115492c8",
   "metadata": {},
   "outputs": [],
   "source": [
    "bq3_df = df[['job_title', 'salary']]\n",
    "bq3_df = bq3_df.groupby([\"job_title\"]).median()\n",
    "\n",
    "print(bq3_df.to_string())"
   ]
  },
  {
   "cell_type": "markdown",
   "id": "1c9d5f80",
   "metadata": {},
   "source": [
    "### BQ4: How many employees work for a company in a country not their own?\n",
    "This is purely for my own curiosity. I wanted to know how many professionals work across borders. I also included what currency they are paid in. I think it is interesting how that is negotiated. "
   ]
  },
  {
   "cell_type": "code",
   "execution_count": 36,
   "id": "aad8928e",
   "metadata": {},
   "outputs": [],
   "source": [
    "bq4_df = df[df['employee_residence'] != df['company_location']]\n",
    "\n",
    "print('Count: {}'.format(bq4_df['employee_residence'].count()))\n",
    "print(bq4_df[['company_location', 'employee_residence', 'salary_currency']].to_string())"
   ]
  },
  {
   "cell_type": "markdown",
   "id": "2ebf17a3",
   "metadata": {},
   "source": [
    "### BQ5: What is the distribution of salaries?\n",
    "These charts provide a better understanding of compensation for infosec professionals. I printed out the percentiles, then created two box plots. The first shows all of the data on the chart. The many high outlier points made seeing the distribution difficult, so I added a second chart with a limited range."
   ]
  },
  {
   "cell_type": "code",
   "execution_count": 74,
   "id": "50aa87b0",
   "metadata": {},
   "outputs": [],
   "source": [
    "bq5_df = df[[\"salary_in_usd\"]]\n",
    "\n",
    "for percentile in [0, .25, .50, .75, 1]:\n",
    "    print('{}th percentile: {}'.format(str(int(percentile * 100)).rjust(3), bq5_df.quantile(percentile)[0]))\n",
    "    \n",
    "\n",
    "bq5_df.plot.box(column=\"salary_in_usd\", title=\"Full chart\")\n",
    "bq5_df.plot.box(column=\"salary_in_usd\", title=\"Y: 0 through 275000\", ylim=(-10000, 275000))"
   ]
  }
 ],
 "metadata": {
  "kernelspec": {
   "display_name": "Python 3 (ipykernel)",
   "language": "python",
   "name": "python3"
  },
  "language_info": {
   "codemirror_mode": {
    "name": "ipython",
    "version": 3
   },
   "file_extension": ".py",
   "mimetype": "text/x-python",
   "name": "python",
   "nbconvert_exporter": "python",
   "pygments_lexer": "ipython3",
   "version": "3.9.12"
  }
 },
 "nbformat": 4,
 "nbformat_minor": 5
}
