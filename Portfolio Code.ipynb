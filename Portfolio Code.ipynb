{
 "cells": [
  {
   "cell_type": "markdown",
   "id": "53c4d4e1",
   "metadata": {},
   "source": [
    "## Elijah Bjork Python Demonstration\n",
    "\n",
    "Using the website Kaggle, I found a dataset containing the salaries, job_title, and location of positions in cyber security accross the world. I am interested in pursuing a career in cyber security. Below, I have written code to answer questions I have about the infosec industry."
   ]
  },
  {
   "cell_type": "code",
   "execution_count": 1,
   "id": "52f3325c",
   "metadata": {},
   "outputs": [],
   "source": [
    "import pandas as pd\n",
    "filepath = './salaries_cyber.csv' #if you saved the file in a different directory, please replace the path with the path to the file location\n",
    "df = pd.read_csv(filepath)"
   ]
  },
  {
   "cell_type": "code",
   "execution_count": 2,
   "id": "e8df7f3f",
   "metadata": {},
   "outputs": [
    {
     "name": "stdout",
     "output_type": "stream",
     "text": [
      "<class 'pandas.core.frame.DataFrame'>\n",
      "RangeIndex: 1247 entries, 0 to 1246\n",
      "Data columns (total 11 columns):\n",
      " #   Column              Non-Null Count  Dtype \n",
      "---  ------              --------------  ----- \n",
      " 0   work_year           1247 non-null   int64 \n",
      " 1   experience_level    1247 non-null   object\n",
      " 2   employment_type     1247 non-null   object\n",
      " 3   job_title           1247 non-null   object\n",
      " 4   salary              1247 non-null   int64 \n",
      " 5   salary_currency     1247 non-null   object\n",
      " 6   salary_in_usd       1247 non-null   int64 \n",
      " 7   employee_residence  1247 non-null   object\n",
      " 8   remote_ratio        1247 non-null   int64 \n",
      " 9   company_location    1247 non-null   object\n",
      " 10  company_size        1247 non-null   object\n",
      "dtypes: int64(4), object(7)\n",
      "memory usage: 107.3+ KB\n"
     ]
    }
   ],
   "source": [
    "#About data\n",
    "df.info()"
   ]
  },
  {
   "cell_type": "markdown",
   "id": "08408431",
   "metadata": {},
   "source": [
    "### BQ1: What are the top and bottom 10 salaries and job position paid in US dollars?\n",
    "\n",
    "I am, of course, primarily interested in salary. This section gives me a general idea of what salaries are like."
   ]
  },
  {
   "cell_type": "code",
   "execution_count": 3,
   "id": "aaf8a483",
   "metadata": {
    "scrolled": true
   },
   "outputs": [
    {
     "name": "stdout",
     "output_type": "stream",
     "text": [
      "      salary                           job_title experience_level\n",
      "647   600000           Incident Response Manager               SE\n",
      "886   600000        Security Engineering Manager               EX\n",
      "523   500000                 Security Researcher               SE\n",
      "1106  450000             Staff Security Engineer               SE\n",
      "1214  400000  Chief Information Security Officer               EX\n",
      "814   375000  Chief Information Security Officer               EX\n",
      "566   360000                  Detection Engineer               SE\n",
      "404   325000      Information Security Architect               EX\n",
      "715   320000          Software Security Engineer               MI\n",
      "832   320000       Information Security Engineer               SE\n",
      "      salary                     job_title experience_level\n",
      "303    30000      Security DevOps Engineer               SE\n",
      "691    30000  Information Security Analyst               EN\n",
      "1112   30000  Information Security Analyst               MI\n",
      "893    31000           IT Security Analyst               EN\n",
      "570    34000        Cyber Security Analyst               EN\n",
      "835    45100     Cyber Security Specialist               EN\n",
      "528    46560  Information Security Analyst               MI\n",
      "1179   48000              Security Analyst               EN\n",
      "10     50000           Security Specialist               EN\n",
      "13     50000           Security Specialist               EN\n"
     ]
    }
   ],
   "source": [
    "bq1_df = df[df['employee_residence'] == 'US']\n",
    "\n",
    "bq1_df = bq1_df[['salary', 'job_title', 'experience_level']]\n",
    "\n",
    "print(bq1_df.nlargest(10, \"salary\"))\n",
    "print(bq1_df.nsmallest(10, \"salary\"))"
   ]
  },
  {
   "cell_type": "markdown",
   "id": "13b203a7",
   "metadata": {},
   "source": [
    "### BQ2: What is the median Salary for an entry level professional in the US?\n",
    "\n",
    "Within the next five years, I hope to start an job in infosec. This will be an entry level position. I want to know what I can expect as a salary for these initial jobs."
   ]
  },
  {
   "cell_type": "code",
   "execution_count": 4,
   "id": "e46085d1",
   "metadata": {
    "scrolled": false
   },
   "outputs": [
    {
     "name": "stdout",
     "output_type": "stream",
     "text": [
      "salary    70000.0\n",
      "dtype: float64\n"
     ]
    }
   ],
   "source": [
    "bq2_df = df[df['experience_level'] == 'EN']\n",
    "\n",
    "print(bq2_df[['salary']].median())"
   ]
  },
  {
   "cell_type": "markdown",
   "id": "ee71a89a",
   "metadata": {},
   "source": [
    "### BQ3: What are the job titles available?\n",
    "\n",
    "In the long run, I want to be in cyber forensics or in incident response. It is good for me to be aware of all the positions available, especially those performing the roles I want."
   ]
  },
  {
   "cell_type": "code",
   "execution_count": 5,
   "id": "115492c8",
   "metadata": {},
   "outputs": [
    {
     "name": "stdout",
     "output_type": "stream",
     "text": [
      "                                              salary\n",
      "job_title                                           \n",
      "Application Security Analyst                 60750.0\n",
      "Application Security Architect              315000.0\n",
      "Application Security Engineer               109000.0\n",
      "Application Security Specialist              85000.0\n",
      "Azure Security Engineer                      60000.0\n",
      "Chief Information Security Officer          136000.0\n",
      "Cloud Security Architect                    110000.0\n",
      "Cloud Security Engineer                     130000.0\n",
      "Cloud Security Engineering Manager           52500.0\n",
      "Computer Forensic Software Engineer         122000.0\n",
      "Concierge Security Engineer                 115000.0\n",
      "Corporate Infrastructure Security Engineer  140000.0\n",
      "Corporate Security Engineer                 180000.0\n",
      "Cyber Program Manager                        63000.0\n",
      "Cyber Security Analyst                       80100.0\n",
      "Cyber Security Architect                    129000.0\n",
      "Cyber Security Consultant                    90000.0\n",
      "Cyber Security Engineer                     110000.0\n",
      "Cyber Security Researcher                   175000.0\n",
      "Cyber Security Specialist                    79000.0\n",
      "Cyber Security Training Specialist          130000.0\n",
      "Cyber Threat Analyst                         99000.0\n",
      "Cyber Threat Intelligence Analyst           120000.0\n",
      "Data Security Analyst                        50000.0\n",
      "Detection Engineer                          170000.0\n",
      "DevOps Security Engineer                    144000.0\n",
      "DevSecOps Engineer                          108000.0\n",
      "Digital Forensics Analyst                   116500.0\n",
      "Director of Information Security            180000.0\n",
      "Enterprise Security Engineer                130000.0\n",
      "Ethical Hacker                               89500.0\n",
      "Head of Information Security                203500.0\n",
      "Head of Security                            205000.0\n",
      "IAM Engineer                                240000.0\n",
      "IT Security Analyst                          90000.0\n",
      "IT Security Engineer                        105000.0\n",
      "IT Security Manager                         138000.0\n",
      "Incident Response Analyst                   123500.0\n",
      "Incident Response Lead                      224000.0\n",
      "Incident Response Manager                   155000.0\n",
      "Information Security Analyst                 82700.0\n",
      "Information Security Architect              127000.0\n",
      "Information Security Compliance Analyst      55000.0\n",
      "Information Security Compliance Lead        450000.0\n",
      "Information Security Compliance Manager     180000.0\n",
      "Information Security Engineer               113000.0\n",
      "Information Security Manager                132500.0\n",
      "Information Security Officer                122375.0\n",
      "Information Security Specialist             100000.0\n",
      "Information Systems Security Engineer       105750.0\n",
      "Infrastructure Security Engineer            120000.0\n",
      "Lead Application Security Engineer           55000.0\n",
      "Lead Information Security Engineer          105000.0\n",
      "Lead Security Engineer                      135000.0\n",
      "Network Security Engineer                   102000.0\n",
      "Network and Security Engineer                94980.0\n",
      "Offensive Security Engineer                 110000.0\n",
      "Penetration Tester                          100000.0\n",
      "Penetration Testing Engineer                150000.0\n",
      "Principal Application Security Engineer     237000.0\n",
      "Principal Cloud Security Engineer            90000.0\n",
      "Principal Security Engineer                 237500.0\n",
      "Privacy Manager                             135000.0\n",
      "Product Security Engineer                   145200.0\n",
      "SOC Analyst                                  74000.0\n",
      "Security Analyst                             82080.0\n",
      "Security Consultant                         122500.0\n",
      "Security DevOps Engineer                     99085.0\n",
      "Security Engineer                           147900.0\n",
      "Security Engineering Manager                157000.0\n",
      "Security Incident Response Engineer         245000.0\n",
      "Security Officer                            140000.0\n",
      "Security Officer 3                          148000.0\n",
      "Security Operations Analyst                  67500.0\n",
      "Security Operations Engineer                737500.0\n",
      "Security Researcher                         172500.0\n",
      "Security Specialist                         150200.0\n",
      "Software Security Engineer                  300000.0\n",
      "Staff Application Security Engineer         150000.0\n",
      "Staff Security Engineer                     295000.0\n",
      "Threat Hunter                               150000.0\n",
      "Threat Hunting Lead                          61000.0\n",
      "Threat Intelligence Analyst                 128400.0\n",
      "Threat Intelligence Response Analyst        260000.0\n",
      "Vulnerability Analyst                       115000.0\n",
      "Vulnerability Management Engineer           130000.0\n",
      "Vulnerability Researcher                    110000.0\n"
     ]
    }
   ],
   "source": [
    "bq3_df = df[['job_title', 'salary']]\n",
    "bq3_df = bq3_df.groupby([\"job_title\"]).median()\n",
    "\n",
    "print(bq3_df.to_string())"
   ]
  },
  {
   "cell_type": "markdown",
   "id": "1c9d5f80",
   "metadata": {},
   "source": [
    "### BQ4: How many employees work for a company in a country not their own?\n",
    "This is purely for my own curiosity. I wanted to know how many professionals work across borders. I also included what currency they are paid in. I think it is interesting how that is negotiated. "
   ]
  },
  {
   "cell_type": "code",
   "execution_count": 6,
   "id": "aad8928e",
   "metadata": {},
   "outputs": [
    {
     "name": "stdout",
     "output_type": "stream",
     "text": [
      "Count: 58\n",
      "     company_location employee_residence salary_currency\n",
      "9                  SG                 TW             USD\n",
      "58                 CH                 US             USD\n",
      "112                US                 CA             CAD\n",
      "162                JP                 US             USD\n",
      "178                US                 PK             USD\n",
      "179                US                 IN             USD\n",
      "354                BR                 IN             INR\n",
      "357                US                 GH             USD\n",
      "363                US                 ES             USD\n",
      "383                ES                 AR             USD\n",
      "392                AQ                 BR             BRL\n",
      "397                US                 CA             CAD\n",
      "399                AX                 AF             USD\n",
      "440                US                 FR             EUR\n",
      "461                CA                 BR             USD\n",
      "500                US                 CA             CAD\n",
      "531                NO                 GB             GBP\n",
      "532                NO                 GB             GBP\n",
      "535                US                 DE             EUR\n",
      "548                US                 CR             USD\n",
      "556                US                 JP             USD\n",
      "571                GB                 NG             GBP\n",
      "572                GB                 IE             GBP\n",
      "592                US                 AE             USD\n",
      "594                US                 PT             EUR\n",
      "607                US                 NL             EUR\n",
      "612                RU                 GB             USD\n",
      "631                US                 BR             BRL\n",
      "658                GB                 US             USD\n",
      "669                US                 CA             CAD\n",
      "705                US                 IN             USD\n",
      "728                US                 CA             CAD\n",
      "734                US                 ES             EUR\n",
      "736                RU                 KG             USD\n",
      "756                GB                 BG             EUR\n",
      "764                CA                 IR             USD\n",
      "772                CA                 US             USD\n",
      "802                DE                 PT             EUR\n",
      "810                RS                 IN             USD\n",
      "827                AU                 US             USD\n",
      "863                US                 GR             EUR\n",
      "877                US                 GB             GBP\n",
      "892                DK                 GB             GBP\n",
      "948                US                 CA             USD\n",
      "953                UM                 CA             CAD\n",
      "988                CH                 FR             CHF\n",
      "1012               DK                 LT             USD\n",
      "1025               US                 IN             USD\n",
      "1042               US                 AU             AUD\n",
      "1043               US                 DE             USD\n",
      "1049               BR                 BG             USD\n",
      "1063               GB                 IN             INR\n",
      "1076               NL                 PT             EUR\n",
      "1098               US                 DE             EUR\n",
      "1151               US                 IN             USD\n",
      "1194               IL                 US             USD\n",
      "1196               US                 AU             AUD\n",
      "1219               US                 FR             EUR\n"
     ]
    }
   ],
   "source": [
    "bq4_df = df[df['employee_residence'] != df['company_location']]\n",
    "\n",
    "print('Count: {}'.format(bq4_df['employee_residence'].count()))\n",
    "print(bq4_df[['company_location', 'employee_residence', 'salary_currency']].to_string())"
   ]
  },
  {
   "cell_type": "markdown",
   "id": "2ebf17a3",
   "metadata": {},
   "source": [
    "### BQ5: What is the distribution of salaries?\n",
    "These charts provide a better understanding of compensation for infosec professionals. I printed out the percentiles, then created two box plots. The first shows all of the data on the chart. The many high outlier points made seeing the distribution difficult, so I added a second chart with a limited range."
   ]
  },
  {
   "cell_type": "code",
   "execution_count": 7,
   "id": "50aa87b0",
   "metadata": {},
   "outputs": [
    {
     "name": "stdout",
     "output_type": "stream",
     "text": [
      "  0th percentile: 2000.0\n",
      " 25th percentile: 74594.5\n",
      " 50th percentile: 110000.0\n",
      " 75th percentile: 150000.0\n",
      "100th percentile: 910991.0\n"
     ]
    },
    {
     "data": {
      "text/plain": [
       "<AxesSubplot:title={'center':'Y: 0 through 275000'}>"
      ]
     },
     "execution_count": 7,
     "metadata": {},
     "output_type": "execute_result"
    },
    {
     "data": {
      "image/png": "[encoded data removed]",
      "text/plain": [
       "<Figure size 432x288 with 1 Axes>"
      ]
     },
     "metadata": {
      "needs_background": "light"
     },
     "output_type": "display_data"
    },
    {
     "data": {
      "image/png": "[encoded data removed]",
      "text/plain": [
       "<Figure size 432x288 with 1 Axes>"
      ]
     },
     "metadata": {
      "needs_background": "light"
     },
     "output_type": "display_data"
    }
   ],
   "source": [
    "bq5_df = df[[\"salary_in_usd\"]]\n",
    "\n",
    "for percentile in [0, .25, .50, .75, 1]:\n",
    "    print('{}th percentile: {}'.format(str(int(percentile * 100)).rjust(3), bq5_df.quantile(percentile)[0]))\n",
    "    \n",
    "\n",
    "bq5_df.plot.box(column=\"salary_in_usd\", title=\"Full chart\")\n",
    "bq5_df.plot.box(column=\"salary_in_usd\", title=\"Y: 0 through 275000\", ylim=(-10000, 275000))"
   ]
  }
 ],
 "metadata": {
  "kernelspec": {
   "display_name": "Python 3 (ipykernel)",
   "language": "python",
   "name": "python3"
  },
  "language_info": {
   "codemirror_mode": {
    "name": "ipython",
    "version": 3
   },
   "file_extension": ".py",
   "mimetype": "text/x-python",
   "name": "python",
   "nbconvert_exporter": "python",
   "pygments_lexer": "ipython3",
   "version": "3.9.12"
  }
 },
 "nbformat": 4,
 "nbformat_minor": 5
}
